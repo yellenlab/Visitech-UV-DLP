{
 "cells": [
  {
   "cell_type": "code",
   "execution_count": 1,
   "metadata": {},
   "outputs": [],
   "source": [
    "import thorlabs_apt as apt\n",
    "import time"
   ]
  },
  {
   "cell_type": "code",
   "execution_count": 2,
   "metadata": {},
   "outputs": [],
   "source": [
    "motorNo = apt.list_available_devices()[0][1]\n",
    "motor = apt.Motor(motorNo)\n",
    "\n",
    "# Set the Hardware Limit Switches \n",
    "#   - Limit switch is activated when electrical\n",
    "#     continuity is broken in the reverse direction \n",
    "#   - No Limit Switch in forward direction for NR360S\n",
    "motor.set_hardware_limit_switches(rev=3, fwd=1)\n",
    "\n",
    "motor.set_motor_parameters(steps_per_rev=200,\n",
    "                            gear_box_ratio=1)\n",
    "\n",
    "# Set Stage Info\n",
    "#   - Min and Max pos limited to 0 and 360 degrees\n",
    "#   - units = mm\n",
    "#   - pitch = 5.4546 (from device manual)\n",
    "motor.set_stage_axis_info(min_pos=0.0,\n",
    "                          max_pos=360.0,\n",
    "                          units=1,\n",
    "                          pitch=5.4546)\n",
    "\n",
    "# Set Homing Parameters\n",
    "#   - Homing direction is reverse\n",
    "#   - Limit Switch is reverse\n",
    "motor.set_move_home_parameters(direction=2,\n",
    "                               lim_switch=1,\n",
    "                               velocity=6,\n",
    "                               zero_offset=0.6)\n",
    "\n",
    "motor.set_velocity_parameters(min_vel=0.0,\n",
    "                                accn=2.7,\n",
    "                                max_vel=5.4545)"
   ]
  },
  {
   "cell_type": "code",
   "execution_count": 4,
   "metadata": {},
   "outputs": [],
   "source": [
    "motor.move_home()"
   ]
  },
  {
   "cell_type": "code",
   "execution_count": 5,
   "metadata": {},
   "outputs": [],
   "source": [
    "motor.move_to(10.9)"
   ]
  },
  {
   "cell_type": "code",
   "execution_count": null,
   "metadata": {},
   "outputs": [],
   "source": []
  }
 ],
 "metadata": {
  "kernelspec": {
   "display_name": "Python 3",
   "language": "python",
   "name": "python3"
  },
  "language_info": {
   "codemirror_mode": {
    "name": "ipython",
    "version": 3
   },
   "file_extension": ".py",
   "mimetype": "text/x-python",
   "name": "python",
   "nbconvert_exporter": "python",
   "pygments_lexer": "ipython3",
   "version": "3.6.8"
  }
 },
 "nbformat": 4,
 "nbformat_minor": 2
}
