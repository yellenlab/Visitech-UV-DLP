{
 "cells": [
  {
   "cell_type": "markdown",
   "metadata": {},
   "source": [
    "# Calibration \n",
    "    This notebook can be used to find all of the important \n",
    "    calibration parameters. There are serveral important \n",
    "    values to make the alignment work. "
   ]
  },
  {
   "cell_type": "code",
   "execution_count": 1,
   "metadata": {},
   "outputs": [
    {
     "name": "stdout",
     "output_type": "stream",
     "text": [
      "WARNING: PySpin is not intalled\n",
      "[(21, 90917761), (21, 90917762), (21, 90917763)]\n"
     ]
    }
   ],
   "source": [
    "import sys\n",
    "sys.path.append('C:\\\\Program Files\\\\Micro-Manager-2.0beta')\n",
    "sys.path.append('../source')\n",
    "\n",
    "import uv_utils\n",
    "import position as pos\n",
    "import thorlabs_apt as apt\n",
    "\n",
    "mmc = uv_utils.get_mmc(cfg='../../MMConfig_ASI.cfg')\n",
    "\n",
    "theta_stage = uv_utils.start_nr360s()"
   ]
  },
  {
   "cell_type": "markdown",
   "metadata": {},
   "source": [
    "### Center of Rotation\n",
    "    We need to have an accurate XY stage position of the \n",
    "    center of rotaion (center of theta stage) in order to \n",
    "    only have to find the alignment marks once.  \n",
    "    \n",
    "    In order to calculate this, we can align the camera \n",
    "    with an alignment mark and record the XY location, \n",
    "    then move the theta stage by an arbirary amount (we \n",
    "    will use 15 degrees), then align the same alignment \n",
    "    mark with the camera again. With these two positions, \n",
    "    we can calculate the distance from these positions to \n",
    "    the center of rotation by thinking of the shape we made \n",
    "    as an isosceles triangle"
   ]
  },
  {
   "cell_type": "code",
   "execution_count": 105,
   "metadata": {},
   "outputs": [
    {
     "name": "stdout",
     "output_type": "stream",
     "text": [
      "(37947.1,-27100.5)\n"
     ]
    }
   ],
   "source": [
    "# Move the stage to the alignment mark\n",
    "# then run this cell\n",
    "sp1 = pos.StagePosition(x=mmc.getXPosition(), y=mmc.getYPosition())\n",
    "# sp1 = pos.StagePosition(x=-100, y=100)\n",
    "print(sp1)"
   ]
  },
  {
   "cell_type": "code",
   "execution_count": 8,
   "metadata": {},
   "outputs": [],
   "source": [
    "# Move the stage 15 degrees \n",
    "# theta_stage.move_home()\n",
    "theta_stage.move_to(theta_stage.position+45)"
   ]
  },
  {
   "cell_type": "code",
   "execution_count": 5,
   "metadata": {},
   "outputs": [
    {
     "name": "stdout",
     "output_type": "stream",
     "text": [
      "(40681.1,-17423.9)\n"
     ]
    }
   ],
   "source": [
    "# Move the stage to the alignment mark again\n",
    "# and run this cell\n",
    "sp2 = pos.StagePosition(x=mmc.getXPosition(), y=mmc.getYPosition())\n",
    "# sp2 = pos.StagePosition(x=0, y=141.421)\n",
    "print(sp2)"
   ]
  },
  {
   "cell_type": "code",
   "execution_count": 108,
   "metadata": {},
   "outputs": [
    {
     "name": "stdout",
     "output_type": "stream",
     "text": [
      "Distance between points = 42677.86488801894\n"
     ]
    }
   ],
   "source": [
    "import numpy as np\n",
    "# Calculate the distance between the points \n",
    "dist = sp2.dist(sp1)\n",
    "print ('Distance between points =', dist)\n",
    "\n"
   ]
  },
  {
   "cell_type": "code",
   "execution_count": 109,
   "metadata": {},
   "outputs": [
    {
     "name": "stdout",
     "output_type": "stream",
     "text": [
      "Distance to center of rotation =  82447.30381242583\n"
     ]
    }
   ],
   "source": [
    "distance_to_center = dist / (2*np.cos(np.deg2rad(75)))\n",
    "print ('Distance to center of rotation = ', distance_to_center)"
   ]
  },
  {
   "cell_type": "code",
   "execution_count": 112,
   "metadata": {},
   "outputs": [
    {
     "name": "stdout",
     "output_type": "stream",
     "text": [
      "11501.098607441227 -91360.43842794385\n"
     ]
    }
   ],
   "source": [
    "# Calculate the XY stage points at the center \n",
    "\n",
    "# get the rotation angle between the two points \n",
    "rot_angle = np.arcsin((sp2.y - sp1.y) / dist)\n",
    "\n",
    "# we know that the center is at the angle 82.5 degrees from our base points \n",
    "# but, we need to convert that into the angle that aligns with the \n",
    "# XY stage \n",
    "theta = np.deg2rad(75) + rot_angle\n",
    "\n",
    "# Use the formula x_center = x_current - (magnitude * cos (angle))\n",
    "# to calculate the XY poitns of the center of rotation \n",
    "x_center = sp2.x - (distance_to_center * np.cos(theta))\n",
    "y_center = sp2.y - (distance_to_center * np.sin(theta))\n",
    "print (x_center, y_center)\n",
    "center = pos.StagePosition(x=x_center, y=y_center)"
   ]
  },
  {
   "cell_type": "markdown",
   "metadata": {},
   "source": [
    "    Now that we know the center point, lets test it by \n",
    "    aligning on a different alingment mark, \n",
    "    rotating -25 degrees and trying to align the camera \n",
    "    on that alignment mark agian "
   ]
  },
  {
   "cell_type": "code",
   "execution_count": 121,
   "metadata": {},
   "outputs": [],
   "source": [
    "# Align the camera with a different alignment mark, then run this cell\n",
    "sp1_new = pos.StagePosition(x=mmc.getXPosition(), y=mmc.getYPosition())\n",
    "# sp1_new = pos.StagePosition(x=-100, y=100)\n",
    "# center = pos.StagePosition(x=0, y=0)"
   ]
  },
  {
   "cell_type": "code",
   "execution_count": 140,
   "metadata": {},
   "outputs": [
    {
     "name": "stdout",
     "output_type": "stream",
     "text": [
      "90705.09449437277\n",
      "-1.4708506288906276\n",
      "-1.6453835540900605\n",
      "18260.26887321617 -907.5347456885356\n"
     ]
    }
   ],
   "source": [
    "# get the distance from the center \n",
    "new_dist_to_center = center.dist(sp1_new)\n",
    "# new_dist_to_center = 90400\n",
    "print (new_dist_to_center)\n",
    "\n",
    "\n",
    "# get the rotation angle of those points \n",
    "center_rot_angle = np.arcsin((center.y - sp1_new.y) / new_dist_to_center)\n",
    "print(center_rot_angle)\n",
    "\n",
    "effective_rot = center_rot_angle- np.deg2rad(10)\n",
    "print (effective_rot)\n",
    "\n",
    "old_x = center.x - (new_dist_to_center * np.cos(effective_rot))\n",
    "old_y = center.y - (new_dist_to_center * np.sin(effective_rot))\n",
    "print (old_x, old_y)"
   ]
  },
  {
   "cell_type": "code",
   "execution_count": 11,
   "metadata": {},
   "outputs": [],
   "source": [
    "theta_stage.move_to(theta_stage.position-20)"
   ]
  },
  {
   "cell_type": "code",
   "execution_count": 49,
   "metadata": {},
   "outputs": [
    {
     "data": {
      "text/plain": [
       "0.0"
      ]
     },
     "execution_count": 49,
     "metadata": {},
     "output_type": "execute_result"
    }
   ],
   "source": [
    "theta_stage.position"
   ]
  },
  {
   "cell_type": "code",
   "execution_count": 136,
   "metadata": {},
   "outputs": [],
   "source": [
    "mmc.setXYPosition(old_x, old_y)"
   ]
  },
  {
   "cell_type": "code",
   "execution_count": 137,
   "metadata": {},
   "outputs": [
    {
     "name": "stdout",
     "output_type": "stream",
     "text": [
      "17806.8 -5363.5\n"
     ]
    }
   ],
   "source": [
    "print(mmc.getXPosition(), mmc.getYPosition())\n"
   ]
  },
  {
   "cell_type": "code",
   "execution_count": 120,
   "metadata": {},
   "outputs": [
    {
     "name": "stdout",
     "output_type": "stream",
     "text": [
      "-0.8937174551884768\n",
      "-1.4173162307867755\n",
      "-1103.3000000000084 -9882.300000000003\n"
     ]
    }
   ],
   "source": [
    "# get the rotation angle of those points \n",
    "center_rot_angle = np.arcsin((center.y - sp1.y) / distance_to_center)\n",
    "print(center_rot_angle)\n",
    "\n",
    "effective_rot = center_rot_angle - np.deg2rad(30)\n",
    "print (effective_rot)\n",
    "\n",
    "old_x = center.x - (distance_to_center * np.cos(effective_rot))\n",
    "old_y = center.y - (distance_to_center * np.sin(effective_rot))\n",
    "print (old_x, old_y)"
   ]
  },
  {
   "cell_type": "code",
   "execution_count": 37,
   "metadata": {},
   "outputs": [],
   "source": [
    "theta_stage.move_to(theta_stage.position+5)"
   ]
  },
  {
   "cell_type": "code",
   "execution_count": 12,
   "metadata": {},
   "outputs": [],
   "source": [
    "sp1 = pos.StagePosition(x=mmc.getXPosition(), y=mmc.getYPosition())"
   ]
  },
  {
   "cell_type": "code",
   "execution_count": 14,
   "metadata": {},
   "outputs": [],
   "source": [
    "sp2 = pos.StagePosition(x=mmc.getXPosition(), y=mmc.getYPosition())"
   ]
  },
  {
   "cell_type": "code",
   "execution_count": 16,
   "metadata": {},
   "outputs": [],
   "source": [
    "sp3 = pos.StagePosition(x=mmc.getXPosition(), y=mmc.getYPosition())"
   ]
  },
  {
   "cell_type": "code",
   "execution_count": 18,
   "metadata": {},
   "outputs": [],
   "source": [
    "sp4 = pos.StagePosition(x=mmc.getXPosition(), y=mmc.getYPosition())"
   ]
  },
  {
   "cell_type": "code",
   "execution_count": 20,
   "metadata": {},
   "outputs": [],
   "source": [
    "sp5 = pos.StagePosition(x=mmc.getXPosition(), y=mmc.getYPosition())"
   ]
  },
  {
   "cell_type": "code",
   "execution_count": 22,
   "metadata": {},
   "outputs": [],
   "source": [
    "sp6 = pos.StagePosition(x=mmc.getXPosition(), y=mmc.getYPosition())"
   ]
  },
  {
   "cell_type": "code",
   "execution_count": 24,
   "metadata": {},
   "outputs": [],
   "source": [
    "sp7 = pos.StagePosition(x=mmc.getXPosition(), y=mmc.getYPosition())"
   ]
  },
  {
   "cell_type": "code",
   "execution_count": 26,
   "metadata": {},
   "outputs": [],
   "source": [
    "sp8 = pos.StagePosition(x=mmc.getXPosition(), y=mmc.getYPosition())"
   ]
  },
  {
   "cell_type": "code",
   "execution_count": 28,
   "metadata": {},
   "outputs": [],
   "source": [
    "sp9 = pos.StagePosition(x=mmc.getXPosition(), y=mmc.getYPosition())"
   ]
  },
  {
   "cell_type": "code",
   "execution_count": 30,
   "metadata": {},
   "outputs": [],
   "source": [
    "sp10 = pos.StagePosition(x=mmc.getXPosition(), y=mmc.getYPosition())"
   ]
  },
  {
   "cell_type": "code",
   "execution_count": 32,
   "metadata": {},
   "outputs": [],
   "source": [
    "sp11 = pos.StagePosition(x=mmc.getXPosition(), y=mmc.getYPosition())"
   ]
  },
  {
   "cell_type": "code",
   "execution_count": 34,
   "metadata": {},
   "outputs": [],
   "source": [
    "sp12 = pos.StagePosition(x=mmc.getXPosition(), y=mmc.getYPosition())"
   ]
  },
  {
   "cell_type": "code",
   "execution_count": 36,
   "metadata": {},
   "outputs": [],
   "source": [
    "sp13 = pos.StagePosition(x=mmc.getXPosition(), y=mmc.getYPosition())"
   ]
  },
  {
   "cell_type": "code",
   "execution_count": 38,
   "metadata": {},
   "outputs": [],
   "source": [
    "pl = pos.PositionList(positions=[sp1,sp2,sp3,sp4,sp5,sp6,sp7,sp8,sp9,sp10,sp11,sp12,sp13])"
   ]
  },
  {
   "cell_type": "code",
   "execution_count": 84,
   "metadata": {},
   "outputs": [
    {
     "data": {
      "image/png": "[encoded data removed]",
      "text/plain": [
       "<Figure size 432x288 with 1 Axes>"
      ]
     },
     "metadata": {
      "needs_background": "light"
     },
     "output_type": "display_data"
    }
   ],
   "source": [
    "pl.visualize(xy=True)"
   ]
  },
  {
   "cell_type": "code",
   "execution_count": 40,
   "metadata": {},
   "outputs": [
    {
     "name": "stdout",
     "output_type": "stream",
     "text": [
      "(-52886.0,-8548.0)\n",
      "(-45596.4,-5519.3)\n",
      "(-37966.700000000004,-3086.0)\n",
      "(-30173.9,-1331.5)\n",
      "(-22257.3,-267.0)\n",
      "(-14282.4,119.10000000000001)\n",
      "(-6302.3,-187.8)\n",
      "(1623.0,-1212.1000000000001)\n",
      "(9456.800000000001,-2912.7000000000003)\n",
      "(17101.4,-5299.1)\n",
      "(24521.8,-8341.4)\n",
      "(31696.0,-11983.300000000001)\n",
      "(38430.200000000004,-16262.0)\n",
      "\n"
     ]
    }
   ],
   "source": [
    "print (pl)"
   ]
  },
  {
   "cell_type": "code",
   "execution_count": 41,
   "metadata": {},
   "outputs": [],
   "source": [
    "pl.save('5degree_rotations', '.')"
   ]
  },
  {
   "cell_type": "code",
   "execution_count": 2,
   "metadata": {},
   "outputs": [],
   "source": [
    "pl = pos.load('5degree_rotations', '.')"
   ]
  },
  {
   "cell_type": "code",
   "execution_count": null,
   "metadata": {},
   "outputs": [],
   "source": [
    "center_dist = []\n",
    "import numpy as np\n",
    "for i, sp_i in enumerate(pl):\n",
    "    for j, sp_j in enumerate(pl):\n",
    "        if i == j:\n",
    "            continue\n",
    "        dist = sp_j.dist(sp_i)\n",
    "        angle_to_center = (180 - np.abs(i-j)) / 2\n",
    "        distance_to_center = dist / (2*np.cos(np.deg2rad(angle_to_center)))\n",
    "        center_dist.append(distance_to_center)\n",
    "        print (distance_to_center)\n",
    "        # get the rotation angle between the two points \n",
    "        rot_angle = np.arcsin((sp_j.y - sp_i.y) / dist)\n",
    "        print ('rot:', np.rad2deg(rot_angle))\n",
    "        # we know that the center is at the angle 82.5 degrees from our base points \n",
    "        # but, we need to convert that into the angle that aligns with the \n",
    "        # XY stage \n",
    "        theta = np.deg2rad(angle_to_center) + rot_angle\n",
    "\n",
    "        # Use the formula x_center = x_current - (magnitude * cos (angle))\n",
    "        # to calculate the XY poitns of the center of rotation \n",
    "#         print ('X:', sp_j.x)\n",
    "        x_center = sp_i.x - (distance_to_center * np.cos(theta))\n",
    "        x_center_p = sp_i.x + (distance_to_center * np.cos(theta))\n",
    "        y_center = sp_i.y - (distance_to_center * np.sin(theta))\n",
    "        print (x_center, y_center)\n",
    "        print (x_center_p)"
   ]
  },
  {
   "cell_type": "code",
   "execution_count": 63,
   "metadata": {},
   "outputs": [],
   "source": [
    "x = [sp.x for sp in pl]\n",
    "y = [sp.y for sp in pl]"
   ]
  },
  {
   "cell_type": "code",
   "execution_count": 6,
   "metadata": {},
   "outputs": [
    {
     "ename": "ModuleNotFoundError",
     "evalue": "No module named 'circle_fit'",
     "output_type": "error",
     "traceback": [
      "\u001b[1;31m---------------------------------------------------------------------------\u001b[0m",
      "\u001b[1;31mModuleNotFoundError\u001b[0m                       Traceback (most recent call last)",
      "\u001b[1;32m<ipython-input-6-82583bf7bac4>\u001b[0m in \u001b[0;36m<module>\u001b[1;34m\u001b[0m\n\u001b[1;32m----> 1\u001b[1;33m \u001b[1;32mimport\u001b[0m \u001b[0mcircle_fit\u001b[0m\u001b[1;33m\u001b[0m\u001b[1;33m\u001b[0m\u001b[0m\n\u001b[0m\u001b[0;32m      2\u001b[0m \u001b[0mxc\u001b[0m\u001b[1;33m,\u001b[0m\u001b[0myc\u001b[0m\u001b[1;33m,\u001b[0m\u001b[0mr\u001b[0m\u001b[1;33m,\u001b[0m\u001b[0m_\u001b[0m \u001b[1;33m=\u001b[0m \u001b[0mcf\u001b[0m\u001b[1;33m.\u001b[0m\u001b[0mleast_squares_circle\u001b[0m\u001b[1;33m(\u001b[0m\u001b[1;33m(\u001b[0m\u001b[0mnp\u001b[0m\u001b[1;33m.\u001b[0m\u001b[0mrow_stack\u001b[0m\u001b[1;33m(\u001b[0m\u001b[1;33m[\u001b[0m\u001b[0mx\u001b[0m\u001b[1;33m,\u001b[0m \u001b[0my\u001b[0m\u001b[1;33m]\u001b[0m\u001b[1;33m)\u001b[0m\u001b[1;33m)\u001b[0m\u001b[1;33m)\u001b[0m\u001b[1;33m\u001b[0m\u001b[1;33m\u001b[0m\u001b[0m\n",
      "\u001b[1;31mModuleNotFoundError\u001b[0m: No module named 'circle_fit'"
     ]
    }
   ],
   "source": [
    "import circle_fit\n",
    "xc,yc,r,_ = cf.least_squares_circle((np.row_stack([x, y])))"
   ]
  },
  {
   "cell_type": "code",
   "execution_count": 90,
   "metadata": {},
   "outputs": [
    {
     "data": {
      "text/plain": [
       "array([[-52886. , -45596.4, -37966.7, -30173.9, -22257.3, -14282.4,\n",
       "         -6302.3,   1623. ,   9456.8,  17101.4,  24521.8,  31696. ,\n",
       "         38430.2],\n",
       "       [ -8548. ,  -5519.3,  -3086. ,  -1331.5,   -267. ,    119.1,\n",
       "          -187.8,  -1212.1,  -2912.7,  -5299.1,  -8341.4, -11983.3,\n",
       "        -16262. ]])"
      ]
     },
     "execution_count": 90,
     "metadata": {},
     "output_type": "execute_result"
    }
   ],
   "source": [
    "np.row_stack([x, y])"
   ]
  },
  {
   "cell_type": "code",
   "execution_count": 77,
   "metadata": {},
   "outputs": [
    {
     "data": {
      "text/plain": [
       "-13931.100822259548"
      ]
     },
     "execution_count": 77,
     "metadata": {},
     "output_type": "execute_result"
    }
   ],
   "source": [
    "xc_3"
   ]
  },
  {
   "cell_type": "code",
   "execution_count": 78,
   "metadata": {},
   "outputs": [
    {
     "data": {
      "text/plain": [
       "-91791.47277656759"
      ]
     },
     "execution_count": 78,
     "metadata": {},
     "output_type": "execute_result"
    }
   ],
   "source": [
    "yc_3"
   ]
  },
  {
   "cell_type": "code",
   "execution_count": 79,
   "metadata": {},
   "outputs": [
    {
     "data": {
      "text/plain": [
       "454112.2478890167"
      ]
     },
     "execution_count": 79,
     "metadata": {},
     "output_type": "execute_result"
    }
   ],
   "source": [
    "R_m"
   ]
  },
  {
   "cell_type": "code",
   "execution_count": 80,
   "metadata": {},
   "outputs": [
    {
     "data": {
      "text/plain": [
       "91905.45313367227"
      ]
     },
     "execution_count": 80,
     "metadata": {},
     "output_type": "execute_result"
    }
   ],
   "source": [
    "R_3"
   ]
  },
  {
   "cell_type": "code",
   "execution_count": 8,
   "metadata": {},
   "outputs": [
    {
     "data": {
      "text/plain": [
       "<matplotlib.patches.Circle at 0x1de75990550>"
      ]
     },
     "execution_count": 8,
     "metadata": {},
     "output_type": "execute_result"
    },
    {
     "data": {
      "image/png": "[encoded data removed]",
      "text/plain": [
       "<Figure size 432x288 with 1 Axes>"
      ]
     },
     "metadata": {
      "needs_background": "light"
     },
     "output_type": "display_data"
    }
   ],
   "source": [
    "import matplotlib.pyplot as plt\n",
    "\n",
    "circle1 = plt.Circle((-30717, -25557), 29883, color='blue')\n",
    "plt.ylim(-60000, 50000)\n",
    "plt.xlim(-60000, 50000)\n",
    "plt.scatter([sp.x for sp in pl], [sp.y for sp in pl])\n",
    "\n",
    "# fig, ax = plt.subplots() # note we must use plt.subplots, not plt.subplot\n",
    "# # (or if you have an existing figure)\n",
    "fig = plt.gcf()\n",
    "ax = fig.gca()\n",
    "\n",
    "ax.add_artist(circle1)"
   ]
  },
  {
   "cell_type": "code",
   "execution_count": null,
   "metadata": {},
   "outputs": [],
   "source": []
  }
 ],
 "metadata": {
  "kernelspec": {
   "display_name": "Python 3",
   "language": "python",
   "name": "python3"
  },
  "language_info": {
   "codemirror_mode": {
    "name": "ipython",
    "version": 3
   },
   "file_extension": ".py",
   "mimetype": "text/x-python",
   "name": "python",
   "nbconvert_exporter": "python",
   "pygments_lexer": "ipython3",
   "version": "3.6.8"
  }
 },
 "nbformat": 4,
 "nbformat_minor": 2
}
