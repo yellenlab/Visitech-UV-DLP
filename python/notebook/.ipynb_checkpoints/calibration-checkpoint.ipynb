{
 "cells": [
  {
   "cell_type": "markdown",
   "metadata": {},
   "source": [
    "# Calibration \n",
    "    This notebook can be used to find all of the important \n",
    "    calibration parameters. There are serveral important \n",
    "    values to make the alignment work. "
   ]
  },
  {
   "cell_type": "code",
   "execution_count": 1,
   "metadata": {},
   "outputs": [
    {
     "name": "stdout",
     "output_type": "stream",
     "text": [
      "WARNING: PySpin is not intalled\n",
      "[(21, 90917761), (21, 90917762), (21, 90917763)]\n"
     ]
    }
   ],
   "source": [
    "import sys\n",
    "sys.path.append('C:\\\\Program Files\\\\Micro-Manager-2.0beta')\n",
    "sys.path.append('../source')\n",
    "\n",
    "import uv_utils\n",
    "import position as pos\n",
    "import thorlabs_apt as apt\n",
    "\n",
    "mmc = uv_utils.get_mmc(cfg='../../MMConfig_ASI.cfg')\n",
    "\n",
    "theta_stage = uv_utils.start_nr360s()"
   ]
  },
  {
   "cell_type": "markdown",
   "metadata": {},
   "source": [
    "### Center of Rotation\n",
    "    We need to have an accurate XY stage position of the \n",
    "    center of rotaion (center of theta stage) in order to \n",
    "    only have to find the alignment marks once.  \n",
    "    \n",
    "    In order to calculate this, we can align the camera \n",
    "    with an alignment mark and record the XY location, \n",
    "    then move the theta stage by an arbirary amount (we \n",
    "    will use 15 degrees), then align the same alignment \n",
    "    mark with the camera again. With these two positions, \n",
    "    we can calculate the distance from these positions to \n",
    "    the center of rotation by thinking of the shape we made \n",
    "    as an isosceles triangle"
   ]
  },
  {
   "cell_type": "code",
   "execution_count": 105,
   "metadata": {},
   "outputs": [
    {
     "name": "stdout",
     "output_type": "stream",
     "text": [
      "(37947.1,-27100.5)\n"
     ]
    }
   ],
   "source": [
    "# Move the stage to the alignment mark\n",
    "# then run this cell\n",
    "sp1 = pos.StagePosition(x=mmc.getXPosition(), y=mmc.getYPosition())\n",
    "# sp1 = pos.StagePosition(x=-100, y=100)\n",
    "print(sp1)"
   ]
  },
  {
   "cell_type": "code",
   "execution_count": 8,
   "metadata": {},
   "outputs": [],
   "source": [
    "# Move the stage 15 degrees \n",
    "# theta_stage.move_home()\n",
    "theta_stage.move_to(theta_stage.position+45)"
   ]
  },
  {
   "cell_type": "code",
   "execution_count": 5,
   "metadata": {},
   "outputs": [
    {
     "name": "stdout",
     "output_type": "stream",
     "text": [
      "(40681.1,-17423.9)\n"
     ]
    }
   ],
   "source": [
    "# Move the stage to the alignment mark again\n",
    "# and run this cell\n",
    "sp2 = pos.StagePosition(x=mmc.getXPosition(), y=mmc.getYPosition())\n",
    "# sp2 = pos.StagePosition(x=0, y=141.421)\n",
    "print(sp2)"
   ]
  },
  {
   "cell_type": "code",
   "execution_count": 108,
   "metadata": {},
   "outputs": [
    {
     "name": "stdout",
     "output_type": "stream",
     "text": [
      "Distance between points = 42677.86488801894\n"
     ]
    }
   ],
   "source": [
    "import numpy as np\n",
    "# Calculate the distance between the points \n",
    "dist = sp2.dist(sp1)\n",
    "print ('Distance between points =', dist)\n",
    "\n"
   ]
  },
  {
   "cell_type": "code",
   "execution_count": 109,
   "metadata": {},
   "outputs": [
    {
     "name": "stdout",
     "output_type": "stream",
     "text": [
      "Distance to center of rotation =  82447.30381242583\n"
     ]
    }
   ],
   "source": [
    "distance_to_center = dist / (2*np.cos(np.deg2rad(75)))\n",
    "print ('Distance to center of rotation = ', distance_to_center)"
   ]
  },
  {
   "cell_type": "code",
   "execution_count": 112,
   "metadata": {},
   "outputs": [
    {
     "name": "stdout",
     "output_type": "stream",
     "text": [
      "11501.098607441227 -91360.43842794385\n"
     ]
    }
   ],
   "source": [
    "# Calculate the XY stage points at the center \n",
    "\n",
    "# get the rotation angle between the two points \n",
    "rot_angle = np.arcsin((sp2.y - sp1.y) / dist)\n",
    "\n",
    "# we know that the center is at the angle 82.5 degrees from our base points \n",
    "# but, we need to convert that into the angle that aligns with the \n",
    "# XY stage \n",
    "theta = np.deg2rad(75) + rot_angle\n",
    "\n",
    "# Use the formula x_center = x_current - (magnitude * cos (angle))\n",
    "# to calculate the XY poitns of the center of rotation \n",
    "x_center = sp2.x - (distance_to_center * np.cos(theta))\n",
    "y_center = sp2.y - (distance_to_center * np.sin(theta))\n",
    "print (x_center, y_center)\n",
    "center = pos.StagePosition(x=x_center, y=y_center)"
   ]
  },
  {
   "cell_type": "markdown",
   "metadata": {},
   "source": [
    "    Now that we know the center point, lets test it by \n",
    "    aligning on a different alingment mark, \n",
    "    rotating -25 degrees and trying to align the camera \n",
    "    on that alignment mark agian "
   ]
  },
  {
   "cell_type": "code",
   "execution_count": 121,
   "metadata": {},
   "outputs": [],
   "source": [
    "# Align the camera with a different alignment mark, then run this cell\n",
    "sp1_new = pos.StagePosition(x=mmc.getXPosition(), y=mmc.getYPosition())\n",
    "# sp1_new = pos.StagePosition(x=-100, y=100)\n",
    "# center = pos.StagePosition(x=0, y=0)"
   ]
  },
  {
   "cell_type": "code",
   "execution_count": 140,
   "metadata": {},
   "outputs": [
    {
     "name": "stdout",
     "output_type": "stream",
     "text": [
      "90705.09449437277\n",
      "-1.4708506288906276\n",
      "-1.6453835540900605\n",
      "18260.26887321617 -907.5347456885356\n"
     ]
    }
   ],
   "source": [
    "# get the distance from the center \n",
    "new_dist_to_center = center.dist(sp1_new)\n",
    "# new_dist_to_center = 90400\n",
    "print (new_dist_to_center)\n",
    "\n",
    "\n",
    "# get the rotation angle of those points \n",
    "center_rot_angle = np.arcsin((center.y - sp1_new.y) / new_dist_to_center)\n",
    "print(center_rot_angle)\n",
    "\n",
    "effective_rot = center_rot_angle- np.deg2rad(10)\n",
    "print (effective_rot)\n",
    "\n",
    "old_x = center.x - (new_dist_to_center * np.cos(effective_rot))\n",
    "old_y = center.y - (new_dist_to_center * np.sin(effective_rot))\n",
    "print (old_x, old_y)"
   ]
  },
  {
   "cell_type": "code",
   "execution_count": 11,
   "metadata": {},
   "outputs": [],
   "source": [
    "theta_stage.move_to(theta_stage.position-20)"
   ]
  },
  {
   "cell_type": "code",
   "execution_count": 49,
   "metadata": {},
   "outputs": [
    {
     "data": {
      "text/plain": [
       "0.0"
      ]
     },
     "execution_count": 49,
     "metadata": {},
     "output_type": "execute_result"
    }
   ],
   "source": [
    "theta_stage.position"
   ]
  },
  {
   "cell_type": "code",
   "execution_count": 136,
   "metadata": {},
   "outputs": [],
   "source": [
    "mmc.setXYPosition(old_x, old_y)"
   ]
  },
  {
   "cell_type": "code",
   "execution_count": 137,
   "metadata": {},
   "outputs": [
    {
     "name": "stdout",
     "output_type": "stream",
     "text": [
      "17806.8 -5363.5\n"
     ]
    }
   ],
   "source": [
    "print(mmc.getXPosition(), mmc.getYPosition())\n"
   ]
  },
  {
   "cell_type": "code",
   "execution_count": 120,
   "metadata": {},
   "outputs": [
    {
     "name": "stdout",
     "output_type": "stream",
     "text": [
      "-0.8937174551884768\n",
      "-1.4173162307867755\n",
      "-1103.3000000000084 -9882.300000000003\n"
     ]
    }
   ],
   "source": [
    "# get the rotation angle of those points \n",
    "center_rot_angle = np.arcsin((center.y - sp1.y) / distance_to_center)\n",
    "print(center_rot_angle)\n",
    "\n",
    "effective_rot = center_rot_angle - np.deg2rad(30)\n",
    "print (effective_rot)\n",
    "\n",
    "old_x = center.x - (distance_to_center * np.cos(effective_rot))\n",
    "old_y = center.y - (distance_to_center * np.sin(effective_rot))\n",
    "print (old_x, old_y)"
   ]
  },
  {
   "cell_type": "code",
   "execution_count": 37,
   "metadata": {},
   "outputs": [],
   "source": [
    "theta_stage.move_to(theta_stage.position+5)"
   ]
  },
  {
   "cell_type": "code",
   "execution_count": 12,
   "metadata": {},
   "outputs": [],
   "source": [
    "sp1 = pos.StagePosition(x=mmc.getXPosition(), y=mmc.getYPosition())"
   ]
  },
  {
   "cell_type": "code",
   "execution_count": 14,
   "metadata": {},
   "outputs": [],
   "source": [
    "sp2 = pos.StagePosition(x=mmc.getXPosition(), y=mmc.getYPosition())"
   ]
  },
  {
   "cell_type": "code",
   "execution_count": 16,
   "metadata": {},
   "outputs": [],
   "source": [
    "sp3 = pos.StagePosition(x=mmc.getXPosition(), y=mmc.getYPosition())"
   ]
  },
  {
   "cell_type": "code",
   "execution_count": 18,
   "metadata": {},
   "outputs": [],
   "source": [
    "sp4 = pos.StagePosition(x=mmc.getXPosition(), y=mmc.getYPosition())"
   ]
  },
  {
   "cell_type": "code",
   "execution_count": 20,
   "metadata": {},
   "outputs": [],
   "source": [
    "sp5 = pos.StagePosition(x=mmc.getXPosition(), y=mmc.getYPosition())"
   ]
  },
  {
   "cell_type": "code",
   "execution_count": 22,
   "metadata": {},
   "outputs": [],
   "source": [
    "sp6 = pos.StagePosition(x=mmc.getXPosition(), y=mmc.getYPosition())"
   ]
  },
  {
   "cell_type": "code",
   "execution_count": 24,
   "metadata": {},
   "outputs": [],
   "source": [
    "sp7 = pos.StagePosition(x=mmc.getXPosition(), y=mmc.getYPosition())"
   ]
  },
  {
   "cell_type": "code",
   "execution_count": 26,
   "metadata": {},
   "outputs": [],
   "source": [
    "sp8 = pos.StagePosition(x=mmc.getXPosition(), y=mmc.getYPosition())"
   ]
  },
  {
   "cell_type": "code",
   "execution_count": 28,
   "metadata": {},
   "outputs": [],
   "source": [
    "sp9 = pos.StagePosition(x=mmc.getXPosition(), y=mmc.getYPosition())"
   ]
  },
  {
   "cell_type": "code",
   "execution_count": 30,
   "metadata": {},
   "outputs": [],
   "source": [
    "sp10 = pos.StagePosition(x=mmc.getXPosition(), y=mmc.getYPosition())"
   ]
  },
  {
   "cell_type": "code",
   "execution_count": 32,
   "metadata": {},
   "outputs": [],
   "source": [
    "sp11 = pos.StagePosition(x=mmc.getXPosition(), y=mmc.getYPosition())"
   ]
  },
  {
   "cell_type": "code",
   "execution_count": 34,
   "metadata": {},
   "outputs": [],
   "source": [
    "sp12 = pos.StagePosition(x=mmc.getXPosition(), y=mmc.getYPosition())"
   ]
  },
  {
   "cell_type": "code",
   "execution_count": 36,
   "metadata": {},
   "outputs": [],
   "source": [
    "sp13 = pos.StagePosition(x=mmc.getXPosition(), y=mmc.getYPosition())"
   ]
  },
  {
   "cell_type": "code",
   "execution_count": 38,
   "metadata": {},
   "outputs": [],
   "source": [
    "pl = pos.PositionList(positions=[sp1,sp2,sp3,sp4,sp5,sp6,sp7,sp8,sp9,sp10,sp11,sp12,sp13])"
   ]
  },
  {
   "cell_type": "code",
   "execution_count": 39,
   "metadata": {},
   "outputs": [
    {
     "data": {
      "image/png": "[encoded data removed]",
      "text/plain": [
       "<Figure size 432x288 with 1 Axes>"
      ]
     },
     "metadata": {
      "needs_background": "light"
     },
     "output_type": "display_data"
    }
   ],
   "source": [
    "pl.visualize(xy=True)"
   ]
  },
  {
   "cell_type": "code",
   "execution_count": 40,
   "metadata": {},
   "outputs": [
    {
     "name": "stdout",
     "output_type": "stream",
     "text": [
      "(-52886.0,-8548.0)\n",
      "(-45596.4,-5519.3)\n",
      "(-37966.700000000004,-3086.0)\n",
      "(-30173.9,-1331.5)\n",
      "(-22257.3,-267.0)\n",
      "(-14282.4,119.10000000000001)\n",
      "(-6302.3,-187.8)\n",
      "(1623.0,-1212.1000000000001)\n",
      "(9456.800000000001,-2912.7000000000003)\n",
      "(17101.4,-5299.1)\n",
      "(24521.8,-8341.4)\n",
      "(31696.0,-11983.300000000001)\n",
      "(38430.200000000004,-16262.0)\n",
      "\n"
     ]
    }
   ],
   "source": [
    "print (pl)"
   ]
  },
  {
   "cell_type": "code",
   "execution_count": 41,
   "metadata": {},
   "outputs": [],
   "source": [
    "pl.save('5degree_rotations', '.')"
   ]
  },
  {
   "cell_type": "code",
   "execution_count": 45,
   "metadata": {},
   "outputs": [
    {
     "name": "stdout",
     "output_type": "stream",
     "text": [
      "X: -45596.4\n",
      "124286.12232332074 -424686.3619913094\n",
      "X: -37966.700000000004\n",
      "111032.5352136032 -433180.0622788924\n",
      "X: -30173.9\n",
      "96263.55825849279 -438609.8031999878\n",
      "X: -22257.3\n",
      "80996.75671791169 -442953.10546321725\n",
      "X: -14282.4\n",
      "65670.413192404 -446298.3518627092\n",
      "X: -6302.3\n",
      "50166.90946837246 -448802.87356006115\n",
      "X: 1623.0\n",
      "34338.95239355974 -450487.1860733582\n",
      "X: 9456.800000000001\n",
      "18579.672278224396 -451502.1381544707\n",
      "X: 17101.4\n",
      "2748.2942836790135 -451560.6666762764\n",
      "X: 24521.8\n",
      "-13001.375597124748 -450832.301320845\n",
      "X: 31696.0\n",
      "-28433.477294699354 -449474.47791612253\n",
      "X: 38430.200000000004\n",
      "-43924.80369993651 -446812.8036873403\n",
      "X: -52886.0\n",
      "-230058.12232332074 -424686.3619913094\n",
      "X: -37966.700000000004\n",
      "97632.73117982512 -441441.16194579855\n",
      "X: -30173.9\n",
      "82074.30065864662 -445202.61662519147\n",
      "X: -22257.3\n",
      "66361.77238288391 -448535.28518960543\n",
      "X: -14282.4\n",
      "50791.925255195405 -451057.91765060823\n",
      "X: -6302.3\n",
      "35106.3630107305 -452844.9769183051\n",
      "X: 1623.0\n",
      "19106.435970691324 -453865.61285625555\n",
      "X: 9456.800000000001\n",
      "3238.966642000707 -454271.931748405\n",
      "X: 17101.4\n",
      "-12672.996645136009 -453719.356415037\n",
      "X: 24521.8\n",
      "-28466.39019297934 -452398.4524660222\n",
      "X: 31696.0\n",
      "-43892.12904252467 -450479.3873029756\n",
      "X: 38430.200000000004\n",
      "-59366.70260640002 -447215.4531469682\n",
      "X: -52886.0\n",
      "-216804.5352136032 -433180.0622788924\n",
      "X: -45596.4\n",
      "-188825.53117982514 -441441.16194579855\n",
      "X: -30173.9\n",
      "66452.59332593728 -448691.9663638441\n",
      "X: -22257.3\n",
      "50638.20091855504 -451671.96162112395\n",
      "X: -14282.4\n",
      "35074.365446448464 -453716.91326427215\n",
      "X: -6302.3\n",
      "19362.294632272908 -455011.7892257751\n",
      "X: 1623.0\n",
      "3287.833130602625 -455525.65346636326\n",
      "X: 9456.800000000001\n",
      "-12601.569506008387 -455446.4928552383\n",
      "X: 17101.4\n",
      "-28524.58257707811 -454370.28817170195\n",
      "X: 24521.8\n",
      "-44300.31072276195 -452527.29169127205\n",
      "X: 31696.0\n",
      "-59660.807699583514 -450108.91433735855\n",
      "X: 38430.200000000004\n",
      "-75069.43457059172 -446284.28138441435\n",
      "X: -52886.0\n",
      "-202035.5582584928 -438609.8031999878\n",
      "X: -45596.4\n",
      "-173267.10065864664 -445202.6166251914\n",
      "X: -37966.700000000004\n",
      "-142385.9933259373 -448691.9663638441\n",
      "X: -22257.3\n",
      "34774.2090313253 -454375.5038068483\n",
      "X: -14282.4\n",
      "19324.259170789584 -455817.91262760456\n",
      "X: -6302.3\n",
      "3599.970449004094 -456569.46247743856\n",
      "X: 1623.0\n",
      "-12565.865679009901 -456543.8410057682\n",
      "X: 9456.800000000001\n",
      "-28466.267042589752 -455968.2306601062\n",
      "X: 17101.4\n",
      "-44389.408961115136 -454348.5306266776\n",
      "X: 24521.8\n",
      "-60131.47595095553 -451969.8450820522\n",
      "X: 31696.0\n",
      "-75402.8684166221 -449047.7956180711\n",
      "X: 38430.200000000004\n",
      "-90726.84490672813 -444645.62017050124\n",
      "X: -52886.0\n",
      "-186768.7567179117 -442953.1054632172\n",
      "X: -45596.4\n",
      "-157554.57238288393 -448535.28518960543\n",
      "X: -37966.700000000004\n",
      "-126571.60091855505 -451671.961621124\n",
      "X: -30173.9\n",
      "-95122.0090313253 -454375.5038068483\n",
      "X: -14282.4\n",
      "3851.4889074633593 -456990.46295811766\n",
      "X: -6302.3\n",
      "-12011.117519421961 -457258.06890938105\n",
      "X: 1623.0\n",
      "-28363.106440809443 -456715.48227538046\n",
      "X: 9456.800000000001\n",
      "-44281.717655304754 -455676.3501198555\n",
      "X: 17101.4\n",
      "-60204.96930813029 -453514.2685455194\n",
      "X: 24521.8\n",
      "-75902.11503569614 -450603.40061445226\n",
      "X: 31696.0\n",
      "-91060.55585731329 -447189.47872932395\n",
      "X: 38430.200000000004\n",
      "-106283.12838805377 -442200.341727103\n",
      "X: -52886.0\n",
      "-171442.413192404 -446298.35186270927\n",
      "X: -45596.4\n",
      "-141984.7252551954 -451057.91765060823\n",
      "X: -37966.700000000004\n",
      "-111007.76544644847 -453716.9132642721\n",
      "X: -30173.9\n",
      "-79672.05917078958 -455817.9126276045\n",
      "X: -22257.3\n",
      "-48366.08890746336 -456990.4629581176\n",
      "X: -6302.3\n",
      "-27875.978362342626 -457248.79344845377\n",
      "X: 1623.0\n",
      "-44461.898461433295 -456156.37786093826\n",
      "X: 9456.800000000001\n",
      "-60302.68544836117 -454678.5364719754\n",
      "X: 17101.4\n",
      "-76168.9737687464 -451947.222890182\n",
      "X: 24521.8\n",
      "-91768.95421125107 -448492.2995472169\n",
      "X: 31696.0\n",
      "-106756.97432478066 -444592.1675415203\n",
      "X: 38430.200000000004\n",
      "-121840.40876976808 -438993.1458847256\n",
      "X: -52886.0\n",
      "-155938.90946837247 -448802.87356006115\n",
      "X: -45596.4\n",
      "-126299.1630107305 -452844.9769183051\n",
      "X: -37966.700000000004\n",
      "-95295.6946322729 -455011.7892257751\n",
      "X: -30173.9\n",
      "-63947.7704490041 -456569.46247743856\n",
      "X: -22257.3\n",
      "-32503.482480578037 -457258.0689093811\n",
      "X: -14282.4\n",
      "-688.8216376573746 -457248.79344845377\n",
      "X: 1623.0\n",
      "-61026.2271637262 -454774.66443491075\n",
      "X: 9456.800000000001\n",
      "-76477.45822382785 -452969.3671676483\n",
      "X: 17101.4\n",
      "-92196.78600244358 -449619.07242489944\n",
      "X: 24521.8\n",
      "-107634.52738378999 -445607.96740895807\n",
      "X: 31696.0\n",
      "-122383.83326326011 -441237.6272194765\n",
      "X: 38430.200000000004\n",
      "-137293.05367294 -434998.3734419\n",
      "X: -52886.0\n",
      "-140110.95239355974 -450487.1860733583\n",
      "X: -45596.4\n",
      "-110299.23597069133 -453865.6128562556\n",
      "X: -37966.700000000004\n",
      "-79221.23313060263 -455525.6534663632\n",
      "X: -30173.9\n",
      "-47781.934320990105 -456543.84100576816\n",
      "X: -22257.3\n",
      "-16151.493559190556 -456715.48227538046\n",
      "X: -14282.4\n",
      "15897.09846143329 -456156.37786093826\n",
      "X: -6302.3\n",
      "48421.627163726196 -454774.66443491075\n",
      "X: 9456.800000000001\n",
      "-91894.82920495239 -450894.6836914948\n",
      "X: 17101.4\n",
      "-107709.83659245633 -446634.0710527712\n",
      "X: 24521.8\n",
      "-123056.09143314238 -442011.6958753652\n",
      "X: 31696.0\n",
      "-137563.90568046982 -437186.72248855914\n",
      "X: 38430.200000000004\n",
      "-152323.09056366727 -430248.78964710835\n",
      "X: -52886.0\n",
      "-124351.6722782244 -451502.13815447065\n",
      "X: -45596.4\n",
      "-94431.7666420007 -454271.931748405\n",
      "X: -37966.700000000004\n",
      "-63331.83049399161 -455446.49285523826\n",
      "X: -30173.9\n",
      "-31881.532957410258 -455968.2306601062\n",
      "X: -22257.3\n",
      "-232.88234469524104 -455676.3501198555\n",
      "X: -14282.4\n",
      "31737.885448361165 -454678.5364719754\n",
      "X: -6302.3\n",
      "63872.85822382785 -452969.3671676483\n",
      "X: 1623.0\n",
      "95140.82920495239 -450894.68369149475\n",
      "X: 17101.4\n",
      "-123448.07733429287 -442098.09738926205\n",
      "X: 24521.8\n",
      "-138515.707352451 -437163.6859836932\n",
      "X: 31696.0\n",
      "-152619.71944980035 -432088.3919992061\n",
      "X: 38430.200000000004\n",
      "-167193.46797481205 -424432.16043361224\n",
      "X: -52886.0\n",
      "-108520.29428367902 -451560.6666762764\n",
      "X: -45596.4\n",
      "-78519.80335486401 -453719.35641503707\n",
      "X: -37966.700000000004\n",
      "-47408.81742292189 -454370.28817170195\n",
      "X: -30173.9\n",
      "-15958.391038884873 -454348.5306266777\n",
      "X: -22257.3\n",
      "15690.369308130295 -453514.26854551944\n",
      "X: -14282.4\n",
      "47604.173768746405 -451947.22289018205\n",
      "X: -6302.3\n",
      "79592.18600244359 -449619.07242489944\n",
      "X: 1623.0\n",
      "110955.83659245634 -446634.0710527712\n",
      "X: 9456.800000000001\n",
      "142361.67733429282 -442098.09738926205\n",
      "X: 24521.8\n",
      "-153494.9251442 -431967.0597097663\n",
      "X: 31696.0\n",
      "-167070.08076616016 -426703.23700813873\n",
      "X: 38430.200000000004\n",
      "-181562.33021368107 -418037.5553272003\n",
      "X: -52886.0\n",
      "-92770.62440287526 -450832.30132084497\n",
      "X: -45596.4\n",
      "-62726.40980702066 -452398.4524660223\n",
      "X: -37966.700000000004\n",
      "-31633.08927723805 -452527.29169127205\n",
      "X: -30173.9\n",
      "-216.32404904446958 -451969.84508205217\n",
      "X: -22257.3\n",
      "31387.515035696142 -450603.4006144522\n",
      "X: -14282.4\n",
      "63204.15421125107 -448492.2995472169\n",
      "X: -6302.3\n",
      "95029.92738379 -445607.967408958\n",
      "X: 1623.0\n",
      "126302.0914331424 -442011.69587536517\n",
      "X: 9456.800000000001\n",
      "157429.30735245097 -437163.6859836932\n",
      "X: 17101.4\n",
      "187697.7251442 -431967.05970976624\n",
      "X: 31696.0\n",
      "-180551.30245296733 -421203.29687884834\n",
      "X: 38430.200000000004\n",
      "-195409.43504629543 -410707.5511726254\n",
      "X: -52886.0\n",
      "-77338.52270530065 -449474.4779161226\n",
      "X: -45596.4\n",
      "-47300.670957475326 -450479.3873029756\n",
      "X: -37966.700000000004\n",
      "-16272.592300416502 -450108.91433735855\n",
      "X: -30173.9\n",
      "15055.068416622104 -449047.7956180711\n",
      "X: -22257.3\n",
      "46545.95585731328 -447189.47872932395\n",
      "X: -14282.4\n",
      "78192.17432478067 -444592.1675415203\n",
      "X: -6302.3\n",
      "109779.2332632601 -441237.62721947645\n",
      "X: 1623.0\n",
      "140809.9056804698 -437186.72248855914\n",
      "X: 9456.800000000001\n",
      "171533.31944980036 -432088.3919992061\n",
      "X: 17101.4\n",
      "201272.88076616015 -426703.23700813873\n",
      "X: 24521.8\n",
      "229594.9024529674 -421203.29687884834\n",
      "X: 38430.200000000004\n",
      "-210082.12865413952 -399954.0938504004\n",
      "X: -52886.0\n",
      "-61847.19630006351 -446812.8036873403\n",
      "X: -45596.4\n",
      "-31826.097393599994 -447215.4531469682\n",
      "X: -37966.700000000004\n",
      "-863.9654294082866 -446284.2813844143\n",
      "X: -30173.9\n",
      "30379.04490672813 -444645.62017050124\n",
      "X: -22257.3\n",
      "61768.528388053775 -442200.34172710305\n",
      "X: -14282.4\n",
      "93275.60876976806 -438993.1458847257\n",
      "X: -6302.3\n",
      "124688.45367293998 -434998.37344190007\n",
      "X: 1623.0\n",
      "155569.0905636673 -430248.78964710835\n",
      "X: 9456.800000000001\n",
      "186107.06797481203 -424432.16043361224\n",
      "X: 17101.4\n",
      "215765.13021368108 -418037.5553272002\n",
      "X: 24521.8\n",
      "244453.03504629535 -410707.55117262545\n",
      "X: 31696.0\n",
      "273474.1286541394 -399954.0938504005\n"
     ]
    }
   ],
   "source": [
    "import numpy as np\n",
    "for i, sp_i in enumerate(pl):\n",
    "    for j, sp_j in enumerate(pl):\n",
    "        if i == j:\n",
    "            continue\n",
    "        dist = sp_j.dist(sp_i)\n",
    "        angle_to_center = (180 - np.abs(i-j)) / 2\n",
    "        distance_to_center = dist / (2*np.cos(np.deg2rad(angle_to_center)))\n",
    "        # get the rotation angle between the two points \n",
    "        rot_angle = np.arcsin((sp_j.y - sp_i.y) / dist)\n",
    "\n",
    "        # we know that the center is at the angle 82.5 degrees from our base points \n",
    "        # but, we need to convert that into the angle that aligns with the \n",
    "        # XY stage \n",
    "        theta = np.deg2rad(angle_to_center) + rot_angle\n",
    "\n",
    "        # Use the formula x_center = x_current - (magnitude * cos (angle))\n",
    "        # to calculate the XY poitns of the center of rotation \n",
    "        print ('X:', sp_j.x)\n",
    "        x_center = (distance_to_center * np.cos(theta)) - sp_j.x\n",
    "        y_center = sp_j.y - (distance_to_center * np.sin(theta))\n",
    "        print (x_center, y_center)"
   ]
  },
  {
   "cell_type": "code",
   "execution_count": null,
   "metadata": {},
   "outputs": [],
   "source": []
  }
 ],
 "metadata": {
  "kernelspec": {
   "display_name": "Python 3",
   "language": "python",
   "name": "python3"
  },
  "language_info": {
   "codemirror_mode": {
    "name": "ipython",
    "version": 3
   },
   "file_extension": ".py",
   "mimetype": "text/x-python",
   "name": "python",
   "nbconvert_exporter": "python",
   "pygments_lexer": "ipython3",
   "version": "3.6.8"
  }
 },
 "nbformat": 4,
 "nbformat_minor": 2
}
