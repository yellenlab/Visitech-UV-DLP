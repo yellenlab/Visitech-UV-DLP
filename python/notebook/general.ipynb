{
 "cells": [
  {
   "cell_type": "code",
   "execution_count": 1,
   "metadata": {},
   "outputs": [
    {
     "name": "stdout",
     "output_type": "stream",
     "text": [
      "WARNING: PySpin is not intalled\n"
     ]
    }
   ],
   "source": [
    "import sys\n",
    "sys.path.append('C:\\\\Program Files\\\\Micro-Manager-2.0beta')\n",
    "sys.path.append('../source')\n",
    "\n",
    "import uv_utils\n",
    "import position as pos\n",
    "import thorlabs_apt as apt\n",
    "import webcontrol\n",
    "\n",
    "mmc = uv_utils.get_mmc(cfg='../../MMConfig_ASI.cfg')"
   ]
  },
  {
   "cell_type": "code",
   "execution_count": 2,
   "metadata": {},
   "outputs": [],
   "source": [
    "theta_motor = uv_utils.start_nr360s()\n",
    "z_motor = uv_utils.start_mlj150()\n",
    "\n",
    "z_motor.move_home()\n",
    "theta_motor.move_home()"
   ]
  },
  {
   "cell_type": "code",
   "execution_count": 4,
   "metadata": {},
   "outputs": [],
   "source": [
    "z_motor.move_home()\n",
    "theta_motor.move_home()"
   ]
  },
  {
   "cell_type": "code",
   "execution_count": 5,
   "metadata": {},
   "outputs": [],
   "source": [
    "theta_motor.move_to(45)\n",
    "z_motor.move_to(26.6)\n",
    "# pos.set_pos(mmc, x=0,y=0)"
   ]
  },
  {
   "cell_type": "code",
   "execution_count": 25,
   "metadata": {},
   "outputs": [],
   "source": [
    "# login and turn off projector output\n",
    "webdriver = webcontrol.VisitechDLP()\n",
    "webdriver.load_image('C:\\\\Users\\\\cell_ml2\\\\Desktop\\\\Visitech-UV-DLP\\\\python\\\\notebook\\\\black.bmp')"
   ]
  },
  {
   "cell_type": "code",
   "execution_count": 19,
   "metadata": {},
   "outputs": [],
   "source": [
    "# move to focus position\n",
    "z_motor.move_to(26.6)"
   ]
  },
  {
   "cell_type": "code",
   "execution_count": 26,
   "metadata": {},
   "outputs": [
    {
     "name": "stdout",
     "output_type": "stream",
     "text": [
      "UV Position: 2940.4 -33869.8\n"
     ]
    }
   ],
   "source": [
    "# display a cross\n",
    "uv_x, uv_y = pos.current(mmc)\n",
    "print ('UV Position:', uv_x, uv_y)\n",
    "webdriver.load_image('C:\\\\Users\\\\cell_ml2\\\\Desktop\\\\Visitech-UV-DLP\\\\python\\\\notebook\\\\center_alignment_2.bmp')"
   ]
  },
  {
   "cell_type": "code",
   "execution_count": 21,
   "metadata": {},
   "outputs": [],
   "source": [
    "# turn off projector output\n",
    "webdriver.load_image('C:\\\\Users\\\\cell_ml2\\\\Desktop\\\\Visitech-UV-DLP\\\\python\\\\notebook\\\\black.bmp')"
   ]
  },
  {
   "cell_type": "code",
   "execution_count": 17,
   "metadata": {},
   "outputs": [],
   "source": [
    "# move to camera focus \n",
    "z_motor.move_to(38.25)\n",
    "pos.set_pos(mmc, x=-5.4,y=-39.2)"
   ]
  },
  {
   "cell_type": "code",
   "execution_count": 18,
   "metadata": {},
   "outputs": [
    {
     "name": "stdout",
     "output_type": "stream",
     "text": [
      "UV Position: -0.0 0.3\n"
     ]
    }
   ],
   "source": [
    "# Find cross with camera\n",
    "cam_x, cam_y = pos.current(mmc)\n",
    "print ('UV Position:', uv_x, uv_y)"
   ]
  },
  {
   "cell_type": "code",
   "execution_count": 11,
   "metadata": {},
   "outputs": [
    {
     "data": {
      "text/plain": [
       "26.5849609375"
      ]
     },
     "execution_count": 11,
     "metadata": {},
     "output_type": "execute_result"
    }
   ],
   "source": [
    "z_motor.position"
   ]
  },
  {
   "cell_type": "code",
   "execution_count": 2,
   "metadata": {},
   "outputs": [],
   "source": [
    "# Make alignment mark bmp\n",
    "import numpy as np\n",
    "from PIL import Image\n",
    "\n",
    "bmp = np.zeros((1080,1920))\n",
    "for i in range(1080):\n",
    "    for j in range(1920):\n",
    "        if (((np.abs(i-540) < 1) and (np.abs(j-960) < 100)) or\n",
    "            ((np.abs(i-540) < 100) and (np.abs(j-960) < 1))):\n",
    "            bmp[i][j] = 255\n",
    "\n",
    "im = Image.fromarray(bmp)\n",
    "im = im.convert('1')\n",
    "im.save('center_alignment_2.bmp')"
   ]
  },
  {
   "cell_type": "code",
   "execution_count": null,
   "metadata": {},
   "outputs": [],
   "source": []
  },
  {
   "cell_type": "code",
   "execution_count": null,
   "metadata": {},
   "outputs": [],
   "source": []
  }
 ],
 "metadata": {
  "kernelspec": {
   "display_name": "Python 3",
   "language": "python",
   "name": "python3"
  },
  "language_info": {
   "codemirror_mode": {
    "name": "ipython",
    "version": 3
   },
   "file_extension": ".py",
   "mimetype": "text/x-python",
   "name": "python",
   "nbconvert_exporter": "python",
   "pygments_lexer": "ipython3",
   "version": "3.6.8"
  }
 },
 "nbformat": 4,
 "nbformat_minor": 2
}
